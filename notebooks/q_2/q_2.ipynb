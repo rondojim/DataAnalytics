{
 "cells": [
  {
   "cell_type": "code",
   "execution_count": 1,
   "metadata": {},
   "outputs": [],
   "source": [
    "import sys\n",
    "sys.path.append(\"../..\")"
   ]
  },
  {
   "cell_type": "code",
   "execution_count": 2,
   "metadata": {},
   "outputs": [
    {
     "name": "stdout",
     "output_type": "stream",
     "text": [
      "Defaulting to user installation because normal site-packages is not writeable\n",
      "Requirement already satisfied: datasketch in /home/dimitriskpl/.local/lib/python3.10/site-packages (1.6.4)\n",
      "Requirement already satisfied: numpy>=1.11 in /home/dimitriskpl/.local/lib/python3.10/site-packages (from datasketch) (1.26.2)\n",
      "Requirement already satisfied: scipy>=1.0.0 in /home/dimitriskpl/.local/lib/python3.10/site-packages (from datasketch) (1.11.4)\n",
      "\n",
      "\u001b[1m[\u001b[0m\u001b[34;49mnotice\u001b[0m\u001b[1;39;49m]\u001b[0m\u001b[39;49m A new release of pip is available: \u001b[0m\u001b[31;49m23.3.2\u001b[0m\u001b[39;49m -> \u001b[0m\u001b[32;49m24.0\u001b[0m\n",
      "\u001b[1m[\u001b[0m\u001b[34;49mnotice\u001b[0m\u001b[1;39;49m]\u001b[0m\u001b[39;49m To update, run: \u001b[0m\u001b[32;49mpip install --upgrade pip\u001b[0m\n"
     ]
    }
   ],
   "source": [
    "# Ensure the datasketch package is installed for running this notebook\n",
    "!pip install datasketch"
   ]
  },
  {
   "cell_type": "code",
   "execution_count": 3,
   "metadata": {},
   "outputs": [],
   "source": [
    "import pandas as pd\n",
    "from datasketch import MinHash, MinHashLSH\n",
    "import time\n",
    "from tqdm import tqdm"
   ]
  },
  {
   "cell_type": "markdown",
   "metadata": {},
   "source": [
    "Set paths to preprocessed train, test datasets \\\n",
    "**Prerequisite**: run preprocess_save_df.ipynb"
   ]
  },
  {
   "cell_type": "code",
   "execution_count": 9,
   "metadata": {},
   "outputs": [],
   "source": [
    "PATH_TO_TRAIN_DATA = \"../../bigdata2023classification/preprocessed_data/preprocessed_train_df.pkl\"\n",
    "PATH_TO_TEST_DATA = \"../../bigdata2023classification/preprocessed_data/preprocessed_test_df.pkl\""
   ]
  },
  {
   "cell_type": "code",
   "execution_count": 10,
   "metadata": {},
   "outputs": [],
   "source": [
    "train_df = pd.read_pickle(PATH_TO_TRAIN_DATA)\n",
    "test_df = pd.read_pickle(PATH_TO_TEST_DATA)  "
   ]
  },
  {
   "cell_type": "code",
   "execution_count": 11,
   "metadata": {},
   "outputs": [
    {
     "data": {
      "text/html": [
       "<div>\n",
       "<style scoped>\n",
       "    .dataframe tbody tr th:only-of-type {\n",
       "        vertical-align: middle;\n",
       "    }\n",
       "\n",
       "    .dataframe tbody tr th {\n",
       "        vertical-align: top;\n",
       "    }\n",
       "\n",
       "    .dataframe thead th {\n",
       "        text-align: right;\n",
       "    }\n",
       "</style>\n",
       "<table border=\"1\" class=\"dataframe\">\n",
       "  <thead>\n",
       "    <tr style=\"text-align: right;\">\n",
       "      <th></th>\n",
       "      <th>Id</th>\n",
       "      <th>Title</th>\n",
       "      <th>Content</th>\n",
       "      <th>Label</th>\n",
       "    </tr>\n",
       "  </thead>\n",
       "  <tbody>\n",
       "    <tr>\n",
       "      <th>0</th>\n",
       "      <td>227464</td>\n",
       "      <td>netflix come cable box amazon grocery overlord</td>\n",
       "      <td>subscribe one three rinkydink comparatively sp...</td>\n",
       "      <td>Entertainment</td>\n",
       "    </tr>\n",
       "    <tr>\n",
       "      <th>1</th>\n",
       "      <td>244074</td>\n",
       "      <td>pharrell iranian president react tehran happy ...</td>\n",
       "      <td>pharrell iranian president react tehran happy ...</td>\n",
       "      <td>Entertainment</td>\n",
       "    </tr>\n",
       "    <tr>\n",
       "      <th>2</th>\n",
       "      <td>60707</td>\n",
       "      <td>wildlife service seek comment</td>\n",
       "      <td>fish wildlife service reopen comment period ad...</td>\n",
       "      <td>Technology</td>\n",
       "    </tr>\n",
       "    <tr>\n",
       "      <th>3</th>\n",
       "      <td>27883</td>\n",
       "      <td>facebook team storyful launch fb newswire</td>\n",
       "      <td>nature social medium mean often source real ti...</td>\n",
       "      <td>Technology</td>\n",
       "    </tr>\n",
       "    <tr>\n",
       "      <th>4</th>\n",
       "      <td>169596</td>\n",
       "      <td>caesar plan mln new york casino</td>\n",
       "      <td>caesar plan mln new york casino jul newsdesk l...</td>\n",
       "      <td>Business</td>\n",
       "    </tr>\n",
       "  </tbody>\n",
       "</table>\n",
       "</div>"
      ],
      "text/plain": [
       "       Id                                              Title  \\\n",
       "0  227464     netflix come cable box amazon grocery overlord   \n",
       "1  244074  pharrell iranian president react tehran happy ...   \n",
       "2   60707                      wildlife service seek comment   \n",
       "3   27883          facebook team storyful launch fb newswire   \n",
       "4  169596                    caesar plan mln new york casino   \n",
       "\n",
       "                                             Content          Label  \n",
       "0  subscribe one three rinkydink comparatively sp...  Entertainment  \n",
       "1  pharrell iranian president react tehran happy ...  Entertainment  \n",
       "2  fish wildlife service reopen comment period ad...     Technology  \n",
       "3  nature social medium mean often source real ti...     Technology  \n",
       "4  caesar plan mln new york casino jul newsdesk l...       Business  "
      ]
     },
     "execution_count": 11,
     "metadata": {},
     "output_type": "execute_result"
    }
   ],
   "source": [
    "train_df.head(5)"
   ]
  },
  {
   "cell_type": "code",
   "execution_count": 12,
   "metadata": {},
   "outputs": [
    {
     "data": {
      "text/html": [
       "<div>\n",
       "<style scoped>\n",
       "    .dataframe tbody tr th:only-of-type {\n",
       "        vertical-align: middle;\n",
       "    }\n",
       "\n",
       "    .dataframe tbody tr th {\n",
       "        vertical-align: top;\n",
       "    }\n",
       "\n",
       "    .dataframe thead th {\n",
       "        text-align: right;\n",
       "    }\n",
       "</style>\n",
       "<table border=\"1\" class=\"dataframe\">\n",
       "  <thead>\n",
       "    <tr style=\"text-align: right;\">\n",
       "      <th></th>\n",
       "      <th>Id</th>\n",
       "      <th>Title</th>\n",
       "      <th>Content</th>\n",
       "    </tr>\n",
       "  </thead>\n",
       "  <tbody>\n",
       "    <tr>\n",
       "      <th>0</th>\n",
       "      <td>262120</td>\n",
       "      <td>tracy morgan upgrade fair condition crash</td>\n",
       "      <td>actor comedian tracy morgan upgrade fair condi...</td>\n",
       "    </tr>\n",
       "    <tr>\n",
       "      <th>1</th>\n",
       "      <td>175132</td>\n",
       "      <td>smartphones weigh samsung electronics guidance...</td>\n",
       "      <td>samsung electronics co ltd tuesday issue unexp...</td>\n",
       "    </tr>\n",
       "    <tr>\n",
       "      <th>2</th>\n",
       "      <td>218739</td>\n",
       "      <td>fbi denies fumble testimony xmen director brya...</td>\n",
       "      <td>michael egan iii say press conference thursday...</td>\n",
       "    </tr>\n",
       "    <tr>\n",
       "      <th>3</th>\n",
       "      <td>253483</td>\n",
       "      <td>bachelorette spoiler week recap eric hill drama</td>\n",
       "      <td>mixed emotion happen tonight onthe bachelorett...</td>\n",
       "    </tr>\n",
       "    <tr>\n",
       "      <th>4</th>\n",
       "      <td>224109</td>\n",
       "      <td>barack obama honour frankie knuckle letter lov...</td>\n",
       "      <td>president barack obama pay special tribute clu...</td>\n",
       "    </tr>\n",
       "  </tbody>\n",
       "</table>\n",
       "</div>"
      ],
      "text/plain": [
       "       Id                                              Title  \\\n",
       "0  262120          tracy morgan upgrade fair condition crash   \n",
       "1  175132  smartphones weigh samsung electronics guidance...   \n",
       "2  218739  fbi denies fumble testimony xmen director brya...   \n",
       "3  253483    bachelorette spoiler week recap eric hill drama   \n",
       "4  224109  barack obama honour frankie knuckle letter lov...   \n",
       "\n",
       "                                             Content  \n",
       "0  actor comedian tracy morgan upgrade fair condi...  \n",
       "1  samsung electronics co ltd tuesday issue unexp...  \n",
       "2  michael egan iii say press conference thursday...  \n",
       "3  mixed emotion happen tonight onthe bachelorett...  \n",
       "4  president barack obama pay special tribute clu...  "
      ]
     },
     "execution_count": 12,
     "metadata": {},
     "output_type": "execute_result"
    }
   ],
   "source": [
    "test_df.head(5)"
   ]
  },
  {
   "cell_type": "code",
   "execution_count": 8,
   "metadata": {},
   "outputs": [],
   "source": [
    "def jaccard_similarity(set1, set2):\n",
    "    intersection = len(set1.intersection(set2))\n",
    "    union = len(set1.union(set2))\n",
    "    return intersection / union if union != 0 else 0"
   ]
  },
  {
   "cell_type": "markdown",
   "metadata": {},
   "source": [
    "# Brute-Force Method"
   ]
  },
  {
   "cell_type": "code",
   "execution_count": 9,
   "metadata": {},
   "outputs": [],
   "source": [
    "# Compute jaccard similarity for each pair of test and train documents\n",
    "# return a dictionary maping test indexes to the k most similar train indexes regarding jaccard similarity of documents, \n",
    "# build time, query time \n",
    "def brute_force_search(test_docs, train_docs, k, threshold=0.8):\n",
    "    start_time = time.time()\n",
    "    results = {}\n",
    "    for test_idx, test_doc in tqdm(test_docs.items(), desc=\"Brute Force Search - Processing Documents\"):\n",
    "        similarities = []\n",
    "        for train_idx, train_doc in train_docs.items():\n",
    "            sim = jaccard_similarity(test_doc, train_doc)\n",
    "            if sim > threshold:\n",
    "                similarities.append((train_idx, sim))\n",
    "\n",
    "        # Sort by similarity and select top K\n",
    "        similarities.sort(key=lambda x: x[1], reverse=True)\n",
    "        results[test_idx] = similarities[:k]\n",
    "    return results, time.time() - start_time\n"
   ]
  },
  {
   "cell_type": "markdown",
   "metadata": {},
   "source": [
    "#  LSH with MinHash"
   ]
  },
  {
   "cell_type": "code",
   "execution_count": 10,
   "metadata": {},
   "outputs": [],
   "source": [
    "def create_minhash(doc_shingles, num_perm=128):\n",
    "    m = MinHash(num_perm=num_perm)\n",
    "    for shingle in doc_shingles:\n",
    "        m.update(shingle.encode('utf8'))\n",
    "    return m"
   ]
  },
  {
   "cell_type": "code",
   "execution_count": 1,
   "metadata": {},
   "outputs": [],
   "source": [
    "# Compute jaccard similarity with LSH for each pair of test and train documents\n",
    "# return a dictionary maping test indexes to the k most similar train indexes regarding jaccard similarity of documents, \n",
    "# build time, query time \n",
    "def lsh_process(train_docs, test_docs, num_perm, k=15, threshold=0.8):\n",
    "    start_build_time = time.time()\n",
    "\n",
    "    # Create and build LSH index\n",
    "    lsh = MinHashLSH(threshold=threshold, num_perm=num_perm)\n",
    "    train_minhashes = {idx: create_minhash(shingles, num_perm) for idx, shingles in train_docs.items()}\n",
    "    for idx, minhash in tqdm(train_minhashes.items(), desc=\"Building LSH Index\"):\n",
    "        lsh.insert(idx, minhash)\n",
    "\n",
    "    end_build_time = time.time()\n",
    "    build_time = end_build_time - start_build_time\n",
    "\n",
    "    start_query_time = time.time()\n",
    "\n",
    "    # Querying LSH index\n",
    "    results = {}\n",
    "    for test_idx, test_shingles in test_docs.items():\n",
    "        test_minhash = create_minhash(test_shingles, num_perm)\n",
    "        candidate_idxs = lsh.query(test_minhash)\n",
    "        candidate_docs = {idx: train_docs[idx] for idx in candidate_idxs}\n",
    "        similarities = [(idx, jaccard_similarity(test_shingles, shingles)) \n",
    "                        for idx, shingles in candidate_docs.items()]\n",
    "        similarities.sort(key=lambda x: x[1], reverse=True)\n",
    "        results[test_idx] = similarities[:k]\n",
    "\n",
    "    end_query_time = time.time()\n",
    "    query_time = end_query_time - start_query_time\n",
    "\n",
    "    return results, build_time, query_time\n"
   ]
  },
  {
   "cell_type": "markdown",
   "metadata": {},
   "source": [
    "# Apply and Evaluate each Method "
   ]
  },
  {
   "cell_type": "markdown",
   "metadata": {},
   "source": [
    "Create sets of shingles (unique words) from question"
   ]
  },
  {
   "cell_type": "code",
   "execution_count": 13,
   "metadata": {},
   "outputs": [],
   "source": [
    "# Convert content into sets of words (Shingles)\n",
    "train_df['Shingles'] = train_df['Content'].apply(lambda x: set(x.split()))\n",
    "test_df['Shingles'] = test_df['Content'].apply(lambda x: set(x.split()))\n",
    "\n",
    "train_doc_sets = train_df['Shingles'].to_dict()\n",
    "test_doc_sets = test_df['Shingles'].to_dict()\n",
    "\n",
    "# Number of permutations to test\n",
    "permutations = [16, 32, 64]\n",
    "\n",
    "# Number of nearest neighbors to find\n",
    "k=15"
   ]
  },
  {
   "cell_type": "code",
   "execution_count": 14,
   "metadata": {},
   "outputs": [],
   "source": [
    "# Function to calculate the fraction of correct similar documents\n",
    "def calculate_fraction_correct(brute_force_results, lsh_results):\n",
    "    correct_matches = 0\n",
    "    total_matches = 0\n",
    "    for test_idx, true_similar in brute_force_results.items():\n",
    "        true_similar_ids = set(idx for idx, _ in true_similar)\n",
    "        lsh_similar_ids = set(idx for idx, _ in lsh_results.get(test_idx, []))\n",
    "        correct_matches += len(true_similar_ids.intersection(lsh_similar_ids))\n",
    "        total_matches += len(true_similar_ids)\n",
    "    return correct_matches / total_matches if total_matches > 0 else 0"
   ]
  },
  {
   "cell_type": "code",
   "execution_count": 15,
   "metadata": {},
   "outputs": [
    {
     "name": "stdout",
     "output_type": "stream",
     "text": [
      "train_df shape: (111795, 5)\n",
      "test_df shape: (47912, 4)\n"
     ]
    }
   ],
   "source": [
    "print(f\"train_df shape: {train_df.shape}\")\n",
    "print(f\"test_df shape: {test_df.shape}\")"
   ]
  },
  {
   "cell_type": "code",
   "execution_count": 16,
   "metadata": {},
   "outputs": [],
   "source": [
    "evaluation_results = []"
   ]
  },
  {
   "cell_type": "code",
   "execution_count": 17,
   "metadata": {},
   "outputs": [
    {
     "name": "stdout",
     "output_type": "stream",
     "text": [
      "Starting brute-force method...\n"
     ]
    },
    {
     "name": "stderr",
     "output_type": "stream",
     "text": [
      "Brute Force Search - Processing Documents:   0%|          | 0/47912 [00:00<?, ?it/s]"
     ]
    },
    {
     "name": "stderr",
     "output_type": "stream",
     "text": [
      "Brute Force Search - Processing Documents: 100%|██████████| 47912/47912 [25:27:02<00:00,  1.91s/it]    \n"
     ]
    },
    {
     "data": {
      "text/html": [
       "<div>\n",
       "<style scoped>\n",
       "    .dataframe tbody tr th:only-of-type {\n",
       "        vertical-align: middle;\n",
       "    }\n",
       "\n",
       "    .dataframe tbody tr th {\n",
       "        vertical-align: top;\n",
       "    }\n",
       "\n",
       "    .dataframe thead th {\n",
       "        text-align: right;\n",
       "    }\n",
       "</style>\n",
       "<table border=\"1\" class=\"dataframe\">\n",
       "  <thead>\n",
       "    <tr style=\"text-align: right;\">\n",
       "      <th></th>\n",
       "      <th>Type</th>\n",
       "      <th>BuildTime</th>\n",
       "      <th>QueryTime</th>\n",
       "      <th>TotalTime</th>\n",
       "      <th>FractionCorrect</th>\n",
       "      <th>Parameters</th>\n",
       "    </tr>\n",
       "  </thead>\n",
       "  <tbody>\n",
       "    <tr>\n",
       "      <th>0</th>\n",
       "      <td>Brute-Force-Jaccard</td>\n",
       "      <td>0</td>\n",
       "      <td>91622.349267</td>\n",
       "      <td>91622.349267</td>\n",
       "      <td>1.0</td>\n",
       "      <td>-</td>\n",
       "    </tr>\n",
       "  </tbody>\n",
       "</table>\n",
       "</div>"
      ],
      "text/plain": [
       "                  Type  BuildTime     QueryTime     TotalTime  \\\n",
       "0  Brute-Force-Jaccard          0  91622.349267  91622.349267   \n",
       "\n",
       "   FractionCorrect Parameters  \n",
       "0              1.0          -  "
      ]
     },
     "metadata": {},
     "output_type": "display_data"
    }
   ],
   "source": [
    "# Brute Force Method\n",
    "print(\"Starting brute-force method...\")\n",
    "brute_force_results, brute_force_time = brute_force_search(test_doc_sets, train_doc_sets, k)\n",
    "evaluation_results.append({\n",
    "    \"Type\": \"Brute-Force-Jaccard\",\n",
    "    \"BuildTime\": 0,\n",
    "    \"QueryTime\": brute_force_time,\n",
    "    \"TotalTime\": brute_force_time,\n",
    "    \"FractionCorrect\": 1.0,  # Brute-force method is assumed to be 100% accurate\n",
    "    \"Parameters\": \"-\"\n",
    "})\n",
    "results_df = pd.DataFrame(evaluation_results)\n",
    "display(results_df)"
   ]
  },
  {
   "cell_type": "code",
   "execution_count": 18,
   "metadata": {},
   "outputs": [
    {
     "name": "stdout",
     "output_type": "stream",
     "text": [
      "Processing LSH with 16 permutations...\n"
     ]
    },
    {
     "name": "stderr",
     "output_type": "stream",
     "text": [
      "Building LSH Index: 100%|██████████| 111795/111795 [00:04<00:00, 23711.64it/s]\n"
     ]
    },
    {
     "name": "stdout",
     "output_type": "stream",
     "text": [
      "Processing LSH with 32 permutations...\n"
     ]
    },
    {
     "name": "stderr",
     "output_type": "stream",
     "text": [
      "Building LSH Index: 100%|██████████| 111795/111795 [00:05<00:00, 21610.72it/s]\n"
     ]
    },
    {
     "name": "stdout",
     "output_type": "stream",
     "text": [
      "Processing LSH with 64 permutations...\n"
     ]
    },
    {
     "name": "stderr",
     "output_type": "stream",
     "text": [
      "Building LSH Index: 100%|██████████| 111795/111795 [00:04<00:00, 23334.06it/s]\n"
     ]
    }
   ],
   "source": [
    "# LSH Method for different permutations\n",
    "for num_perm in permutations:\n",
    "    print(f\"Processing LSH with {num_perm} permutations...\")\n",
    "    lsh_results, build_time, query_time = lsh_process(train_doc_sets, test_doc_sets, num_perm, k)\n",
    "    total_time = build_time + query_time\n",
    "    fraction_correct = calculate_fraction_correct(brute_force_results, lsh_results, k)\n",
    "    evaluation_results.append({\n",
    "        \"Type\": \"LSH-Jaccard\",\n",
    "        \"BuildTime\": build_time,\n",
    "        \"QueryTime\": query_time,\n",
    "        \"TotalTime\": total_time,\n",
    "        \"FractionCorrect\": fraction_correct,\n",
    "        \"Parameters\": f\"Perm={num_perm}\"\n",
    "    })\n"
   ]
  },
  {
   "cell_type": "code",
   "execution_count": 19,
   "metadata": {},
   "outputs": [
    {
     "data": {
      "text/html": [
       "<div>\n",
       "<style scoped>\n",
       "    .dataframe tbody tr th:only-of-type {\n",
       "        vertical-align: middle;\n",
       "    }\n",
       "\n",
       "    .dataframe tbody tr th {\n",
       "        vertical-align: top;\n",
       "    }\n",
       "\n",
       "    .dataframe thead th {\n",
       "        text-align: right;\n",
       "    }\n",
       "</style>\n",
       "<table border=\"1\" class=\"dataframe\">\n",
       "  <thead>\n",
       "    <tr style=\"text-align: right;\">\n",
       "      <th></th>\n",
       "      <th>Type</th>\n",
       "      <th>BuildTime</th>\n",
       "      <th>QueryTime</th>\n",
       "      <th>TotalTime</th>\n",
       "      <th>FractionCorrect</th>\n",
       "      <th>Parameters</th>\n",
       "    </tr>\n",
       "  </thead>\n",
       "  <tbody>\n",
       "    <tr>\n",
       "      <th>0</th>\n",
       "      <td>Brute-Force-Jaccard</td>\n",
       "      <td>0.000000</td>\n",
       "      <td>91622.349267</td>\n",
       "      <td>91622.349267</td>\n",
       "      <td>1.000000</td>\n",
       "      <td>-</td>\n",
       "    </tr>\n",
       "    <tr>\n",
       "      <th>1</th>\n",
       "      <td>LSH-Jaccard</td>\n",
       "      <td>247.413489</td>\n",
       "      <td>90.840445</td>\n",
       "      <td>338.253934</td>\n",
       "      <td>0.703982</td>\n",
       "      <td>Perm=16</td>\n",
       "    </tr>\n",
       "    <tr>\n",
       "      <th>2</th>\n",
       "      <td>LSH-Jaccard</td>\n",
       "      <td>221.311057</td>\n",
       "      <td>84.337102</td>\n",
       "      <td>305.648159</td>\n",
       "      <td>0.708700</td>\n",
       "      <td>Perm=32</td>\n",
       "    </tr>\n",
       "    <tr>\n",
       "      <th>3</th>\n",
       "      <td>LSH-Jaccard</td>\n",
       "      <td>238.683804</td>\n",
       "      <td>108.599689</td>\n",
       "      <td>347.283494</td>\n",
       "      <td>0.773949</td>\n",
       "      <td>Perm=64</td>\n",
       "    </tr>\n",
       "  </tbody>\n",
       "</table>\n",
       "</div>"
      ],
      "text/plain": [
       "                  Type   BuildTime     QueryTime     TotalTime  \\\n",
       "0  Brute-Force-Jaccard    0.000000  91622.349267  91622.349267   \n",
       "1          LSH-Jaccard  247.413489     90.840445    338.253934   \n",
       "2          LSH-Jaccard  221.311057     84.337102    305.648159   \n",
       "3          LSH-Jaccard  238.683804    108.599689    347.283494   \n",
       "\n",
       "   FractionCorrect Parameters  \n",
       "0         1.000000          -  \n",
       "1         0.703982    Perm=16  \n",
       "2         0.708700    Perm=32  \n",
       "3         0.773949    Perm=64  "
      ]
     },
     "metadata": {},
     "output_type": "display_data"
    }
   ],
   "source": [
    "# Convert the results to a DataFrame\n",
    "results_df = pd.DataFrame(evaluation_results)\n",
    "display(results_df)"
   ]
  },
  {
   "cell_type": "markdown",
   "metadata": {},
   "source": [
    "# Comments"
   ]
  },
  {
   "cell_type": "markdown",
   "metadata": {},
   "source": [
    "**Efficiency vs. Accuracy Trade-off**: LSH significantly improves computational efficiency over brute-force methods for calculating Jaccard similarity, with a trade-off in accuracy. As the number of permutations increases, the accuracy of LSH approaches that of brute-force, but with diminishing returns in terms of time efficiency."
   ]
  }
 ],
 "metadata": {
  "kernelspec": {
   "display_name": "Python 3",
   "language": "python",
   "name": "python3"
  },
  "language_info": {
   "codemirror_mode": {
    "name": "ipython",
    "version": 3
   },
   "file_extension": ".py",
   "mimetype": "text/x-python",
   "name": "python",
   "nbconvert_exporter": "python",
   "pygments_lexer": "ipython3",
   "version": "3.10.12"
  }
 },
 "nbformat": 4,
 "nbformat_minor": 2
}
