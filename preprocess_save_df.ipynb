{
 "cells": [
  {
   "cell_type": "code",
   "execution_count": 1,
   "metadata": {},
   "outputs": [],
   "source": [
    "from src.preprocess import transform\n",
    "import pandas as pd"
   ]
  },
  {
   "cell_type": "markdown",
   "metadata": {},
   "source": [
    "# Preprocess bigdata2023classification datasets "
   ]
  },
  {
   "cell_type": "markdown",
   "metadata": {},
   "source": [
    "**Preprocessing Steps:**\n",
    "* **HTML Tag Removal**: Strips HTML tags from the text.\n",
    "* **URL Removal**: Cleans out URLs, removing both \"http://\" and \"www\" prefixed links to avoid their interference with text analysis.\n",
    "* **Number Removal**: Deletes numerical values from the text, focusing the analysis on textual content.\n",
    "* **Punctuation Removal**: Eliminates punctuation marks, leaving only words and whitespace, which helps in standardizing the text for tokenization.\n",
    "* **Case Normalization**: Converts all text to lowercase to ensure consistency and to prevent the same words in different cases from being counted as distinct.\n",
    "* **Stopwords Removal**: Filters out common English stopwords (e.g., \"the\", \"is\", \"in\"), which are generally considered irrelevant for many analysis tasks.\n",
    "* **Lemmatization**: Transforms words into their base or dictionary form (lemmas), accounting for their part-of-speech. This step aims to consolidate different inflected forms of a word, treating them as a single item.\n",
    "* **Removal of Single-Character Words**: Deletes words that consist of a single character, as they typically do not carry meaningful information for analysis."
   ]
  },
  {
   "cell_type": "markdown",
   "metadata": {},
   "source": [
    "Set paths where the train, test datasets are located and paths to where the preprocessed train,test datasets will be saved "
   ]
  },
  {
   "cell_type": "code",
   "execution_count": null,
   "metadata": {},
   "outputs": [],
   "source": [
    "PATH_TO_TRAIN_DATA = \"bigdata2023classification/data/train.csv\"\n",
    "PATH_TO_TEST_DATA = \"bigdata2023classification/data/test_without_labels.csv\"\n",
    "\n",
    "# Path where the data will be saved after preprocessing and extracting features\n",
    "PATH_TO_PREPROCESSED_TRAIN_DATA = \"bigdata2023classification/preprocessed_data/preprocessed_train_df.pkl\"\n",
    "PATH_TO_PREPROCESSED_TEST_DATA = \"bigdata2023classification/preprocessed_data/preprocessed_test_df.pkl\""
   ]
  },
  {
   "cell_type": "code",
   "execution_count": 3,
   "metadata": {},
   "outputs": [
    {
     "name": "stdout",
     "output_type": "stream",
     "text": [
      "HTML clean done\n",
      "Numbers clean done\n",
      "URLs clean done\n",
      "Punctation clean done\n",
      "Uppercase clean done\n",
      "Tokenize done\n",
      "Stopwords clean done\n",
      "Lemmatize done\n",
      "Clean single char words done\n"
     ]
    }
   ],
   "source": [
    "df = pd.read_csv(PATH_TO_TRAIN_DATA)\n",
    "df = transform(df, [\"Title\", \"Content\"])\n",
    "df.to_pickle(PATH_TO_PREPROCESSED_TRAIN_DATA)"
   ]
  },
  {
   "cell_type": "code",
   "execution_count": 4,
   "metadata": {},
   "outputs": [
    {
     "name": "stdout",
     "output_type": "stream",
     "text": [
      "HTML clean done\n",
      "Numbers clean done\n",
      "URLs clean done\n",
      "Punctation clean done\n",
      "Uppercase clean done\n"
     ]
    },
    {
     "name": "stdout",
     "output_type": "stream",
     "text": [
      "Tokenize done\n",
      "Stopwords clean done\n",
      "Lemmatize done\n",
      "Clean single char words done\n"
     ]
    }
   ],
   "source": [
    "test_df = pd.read_csv(PATH_TO_TEST_DATA)\n",
    "test_df = transform(test_df, [\"Title\", \"Content\"])\n",
    "test_df.to_pickle(PATH_TO_PREPROCESSED_TEST_DATA)"
   ]
  }
 ],
 "metadata": {
  "kernelspec": {
   "display_name": "Python 3",
   "language": "python",
   "name": "python3"
  },
  "language_info": {
   "codemirror_mode": {
    "name": "ipython",
    "version": 3
   },
   "file_extension": ".py",
   "mimetype": "text/x-python",
   "name": "python",
   "nbconvert_exporter": "python",
   "pygments_lexer": "ipython3",
   "version": "3.10.12"
  }
 },
 "nbformat": 4,
 "nbformat_minor": 2
}
