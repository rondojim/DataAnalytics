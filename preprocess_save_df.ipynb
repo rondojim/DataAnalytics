{
 "cells": [
  {
   "cell_type": "code",
   "execution_count": 1,
   "metadata": {},
   "outputs": [],
   "source": [
    "from src.preprocess import transform\n",
    "import pandas as pd\n",
    "import csv"
   ]
  },
  {
   "cell_type": "markdown",
   "metadata": {},
   "source": [
    "# bigdata2023classification data"
   ]
  },
  {
   "cell_type": "code",
   "execution_count": 2,
   "metadata": {},
   "outputs": [],
   "source": [
    "df = pd.read_csv(\"bigdata2023classification/train.csv\")\n",
    "df = transform(df, [\"Title\", \"Content\"])\n",
    "df.to_pickle('bigdata2023classification/preprocessed_train_df.pkl')"
   ]
  },
  {
   "cell_type": "code",
   "execution_count": 3,
   "metadata": {},
   "outputs": [],
   "source": [
    "test_df = pd.read_csv(\"bigdata2023classification/test_without_labels.csv\")\n",
    "test_df = transform(test_df, [\"Title\", \"Content\"])\n",
    "test_df.to_pickle('bigdata2023classification/preprocessed_test_df.pkl')"
   ]
  },
  {
   "cell_type": "markdown",
   "metadata": {},
   "source": [
    "# bigdata2023duplicatedetection 3.1 data"
   ]
  },
  {
   "cell_type": "code",
   "execution_count": 28,
   "metadata": {},
   "outputs": [
    {
     "name": "stdout",
     "output_type": "stream",
     "text": [
      "HTML clean done\n",
      "Numbers clean done\n",
      "URLs clean done\n",
      "Punctation clean done\n",
      "Uppercase clean done\n",
      "Tokenize done\n",
      "Stopwords clean done\n"
     ]
    },
    {
     "name": "stderr",
     "output_type": "stream",
     "text": [
      "[nltk_data] Downloading package stopwords to\n",
      "[nltk_data]     /home/dimitriskpl/nltk_data...\n",
      "[nltk_data]   Package stopwords is already up-to-date!\n"
     ]
    },
    {
     "name": "stdout",
     "output_type": "stream",
     "text": [
      "Rarewords clean done\n",
      "Lemmatize done\n"
     ]
    }
   ],
   "source": [
    "data = []\n",
    "with open(\"bigdata2023duplicatedetection/train_q_3.1.csv\", 'r', encoding='utf-8') as file:\n",
    "    reader = csv.reader(file, delimiter='\\n') \n",
    "    for row in reader:\n",
    "        data.append(row[0])  \n",
    "\n",
    "df = pd.DataFrame(data, columns=['Question'])\n",
    "df = df.drop(0)\n",
    "df = df.reset_index(drop=True)\n",
    "df = transform(df, [\"Question\"])\n",
    "df.to_pickle('bigdata2023duplicatedetection/preprocessed_train_q_3.1_df.pkl')"
   ]
  },
  {
   "cell_type": "code",
   "execution_count": 26,
   "metadata": {},
   "outputs": [
    {
     "name": "stdout",
     "output_type": "stream",
     "text": [
      "HTML clean done\n",
      "Numbers clean done\n",
      "URLs clean done\n",
      "Punctation clean done\n",
      "Uppercase clean done\n",
      "Tokenize done\n",
      "Stopwords clean done\n"
     ]
    },
    {
     "name": "stderr",
     "output_type": "stream",
     "text": [
      "[nltk_data] Downloading package stopwords to\n",
      "[nltk_data]     /home/dimitriskpl/nltk_data...\n",
      "[nltk_data]   Package stopwords is already up-to-date!\n"
     ]
    },
    {
     "name": "stdout",
     "output_type": "stream",
     "text": [
      "Rarewords clean done\n",
      "Lemmatize done\n"
     ]
    }
   ],
   "source": [
    "data = []\n",
    "with open(\"bigdata2023duplicatedetection/test_without_labels_q_3.1.csv\", 'r', encoding='utf-8') as file:\n",
    "    reader = csv.reader(file, delimiter='\\n') \n",
    "    for row in reader:\n",
    "        data.append(row[0])  \n",
    "\n",
    "df = pd.DataFrame(data, columns=['Question'])\n",
    "df = df.drop(0)\n",
    "df = df.reset_index(drop=True)\n",
    "df = transform(df, [\"Question\"])\n",
    "df.to_pickle('bigdata2023duplicatedetection/preprocessed_test_q_3.1_df.pkl')"
   ]
  }
 ],
 "metadata": {
  "kernelspec": {
   "display_name": "Python 3",
   "language": "python",
   "name": "python3"
  },
  "language_info": {
   "codemirror_mode": {
    "name": "ipython",
    "version": 3
   },
   "file_extension": ".py",
   "mimetype": "text/x-python",
   "name": "python",
   "nbconvert_exporter": "python",
   "pygments_lexer": "ipython3",
   "version": "3.10.12"
  }
 },
 "nbformat": 4,
 "nbformat_minor": 2
}
